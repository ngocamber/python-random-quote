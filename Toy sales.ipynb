{
 "cells": [
  {
   "cell_type": "markdown",
   "id": "a12ac31f",
   "metadata": {},
   "source": [
    "# Mexico toys sales"
   ]
  },
  {
   "cell_type": "markdown",
   "id": "dc9bdcb7",
   "metadata": {},
   "source": [
    "link to dataset: https://www.kaggle.com/mysarahmadbhat/toy-sales?select=products.csv"
   ]
  },
  {
   "cell_type": "markdown",
   "id": "263ab622",
   "metadata": {},
   "source": [
    "### Outline of the analysis:"
   ]
  },
  {
   "cell_type": "markdown",
   "id": "41a800aa",
   "metadata": {},
   "source": [
    "1. Data cleaning\n",
    "2. Which product categories drive the biggest profits? Is this the same across store locations?\n",
    "3. Can you find any seasonal trends or patterns in the sales data?\n",
    "4. Are sales being lost with out-of-stock products at certain locations?"
   ]
  },
  {
   "cell_type": "code",
   "execution_count": 1,
   "id": "0a81f796",
   "metadata": {},
   "outputs": [],
   "source": [
    "import pandas as pd\n",
    "import matplotlib.pyplot as plt\n",
    "import seaborn as sns\n",
    "import datetime as dt\n",
    "\n",
    "products=pd.read_csv('products.csv')\n",
    "sales=pd.read_csv('sales.csv')\n",
    "stores=pd.read_csv('stores.csv')\n",
    "inventory=pd.read_csv('inventory.csv')"
   ]
  },
  {
   "cell_type": "markdown",
   "id": "0ec01c59",
   "metadata": {},
   "source": [
    "## 1. Data cleaning "
   ]
  },
  {
   "cell_type": "code",
   "execution_count": 2,
   "id": "1ff11a32",
   "metadata": {},
   "outputs": [
    {
     "data": {
      "text/html": [
       "<div>\n",
       "<style scoped>\n",
       "    .dataframe tbody tr th:only-of-type {\n",
       "        vertical-align: middle;\n",
       "    }\n",
       "\n",
       "    .dataframe tbody tr th {\n",
       "        vertical-align: top;\n",
       "    }\n",
       "\n",
       "    .dataframe thead th {\n",
       "        text-align: right;\n",
       "    }\n",
       "</style>\n",
       "<table border=\"1\" class=\"dataframe\">\n",
       "  <thead>\n",
       "    <tr style=\"text-align: right;\">\n",
       "      <th></th>\n",
       "      <th>Sale_ID</th>\n",
       "      <th>Date</th>\n",
       "      <th>Store_ID</th>\n",
       "      <th>Product_ID</th>\n",
       "      <th>Units</th>\n",
       "      <th>Product_Name</th>\n",
       "      <th>Product_Category</th>\n",
       "      <th>Product_Cost</th>\n",
       "      <th>Product_Price</th>\n",
       "      <th>Store_Name</th>\n",
       "      <th>Store_City</th>\n",
       "      <th>Store_Location</th>\n",
       "      <th>Store_Open_Date</th>\n",
       "    </tr>\n",
       "  </thead>\n",
       "  <tbody>\n",
       "    <tr>\n",
       "      <th>0</th>\n",
       "      <td>1</td>\n",
       "      <td>2017-01-01</td>\n",
       "      <td>24</td>\n",
       "      <td>4</td>\n",
       "      <td>1</td>\n",
       "      <td>Chutes &amp; Ladders</td>\n",
       "      <td>Games</td>\n",
       "      <td>$9.99</td>\n",
       "      <td>$12.99</td>\n",
       "      <td>Maven Toys Aguascalientes 1</td>\n",
       "      <td>Aguascalientes</td>\n",
       "      <td>Downtown</td>\n",
       "      <td>2010-07-31</td>\n",
       "    </tr>\n",
       "    <tr>\n",
       "      <th>1</th>\n",
       "      <td>66</td>\n",
       "      <td>2017-01-01</td>\n",
       "      <td>24</td>\n",
       "      <td>4</td>\n",
       "      <td>1</td>\n",
       "      <td>Chutes &amp; Ladders</td>\n",
       "      <td>Games</td>\n",
       "      <td>$9.99</td>\n",
       "      <td>$12.99</td>\n",
       "      <td>Maven Toys Aguascalientes 1</td>\n",
       "      <td>Aguascalientes</td>\n",
       "      <td>Downtown</td>\n",
       "      <td>2010-07-31</td>\n",
       "    </tr>\n",
       "    <tr>\n",
       "      <th>2</th>\n",
       "      <td>98</td>\n",
       "      <td>2017-01-01</td>\n",
       "      <td>24</td>\n",
       "      <td>4</td>\n",
       "      <td>1</td>\n",
       "      <td>Chutes &amp; Ladders</td>\n",
       "      <td>Games</td>\n",
       "      <td>$9.99</td>\n",
       "      <td>$12.99</td>\n",
       "      <td>Maven Toys Aguascalientes 1</td>\n",
       "      <td>Aguascalientes</td>\n",
       "      <td>Downtown</td>\n",
       "      <td>2010-07-31</td>\n",
       "    </tr>\n",
       "  </tbody>\n",
       "</table>\n",
       "</div>"
      ],
      "text/plain": [
       "   Sale_ID        Date  Store_ID  Product_ID  Units      Product_Name  \\\n",
       "0        1  2017-01-01        24           4      1  Chutes & Ladders   \n",
       "1       66  2017-01-01        24           4      1  Chutes & Ladders   \n",
       "2       98  2017-01-01        24           4      1  Chutes & Ladders   \n",
       "\n",
       "  Product_Category Product_Cost Product_Price                   Store_Name  \\\n",
       "0            Games       $9.99        $12.99   Maven Toys Aguascalientes 1   \n",
       "1            Games       $9.99        $12.99   Maven Toys Aguascalientes 1   \n",
       "2            Games       $9.99        $12.99   Maven Toys Aguascalientes 1   \n",
       "\n",
       "       Store_City Store_Location Store_Open_Date  \n",
       "0  Aguascalientes       Downtown      2010-07-31  \n",
       "1  Aguascalientes       Downtown      2010-07-31  \n",
       "2  Aguascalientes       Downtown      2010-07-31  "
      ]
     },
     "execution_count": 2,
     "metadata": {},
     "output_type": "execute_result"
    }
   ],
   "source": [
    "sales1=pd.merge(sales, products, on='Product_ID')\n",
    "df=pd.merge(sales1, stores, on='Store_ID')\n",
    "df.head(3)"
   ]
  },
  {
   "cell_type": "code",
   "execution_count": 3,
   "id": "eb2677e6",
   "metadata": {},
   "outputs": [
    {
     "name": "stderr",
     "output_type": "stream",
     "text": [
      "<ipython-input-3-24e2cf4169b1>:2: FutureWarning: The default value of regex will change from True to False in a future version. In addition, single character regular expressions will*not* be treated as literal strings when regex=True.\n",
      "  df['Product_Cost'] = df['Product_Cost'].str.replace('$','')\n",
      "<ipython-input-3-24e2cf4169b1>:3: FutureWarning: The default value of regex will change from True to False in a future version. In addition, single character regular expressions will*not* be treated as literal strings when regex=True.\n",
      "  df['Product_Price'] = df['Product_Price'].str.replace('$','')\n"
     ]
    }
   ],
   "source": [
    "# clean cost and price data\n",
    "df['Product_Cost'] = df['Product_Cost'].str.replace('$','')\n",
    "df['Product_Price'] = df['Product_Price'].str.replace('$','')\n",
    "# change type\n",
    "df['Product_Cost'] = df['Product_Cost'].astype(float)\n",
    "df['Product_Price'] = df['Product_Price'].astype(float)\n",
    "# change type of Date column\n",
    "df['Date'] = pd.to_datetime(df['Date'],format='%Y/%m/%d')"
   ]
  },
  {
   "cell_type": "code",
   "execution_count": 4,
   "id": "1e724e45",
   "metadata": {},
   "outputs": [
    {
     "data": {
      "text/plain": [
       "Sale_ID             0\n",
       "Date                0\n",
       "Store_ID            0\n",
       "Product_ID          0\n",
       "Units               0\n",
       "Product_Name        0\n",
       "Product_Category    0\n",
       "Product_Cost        0\n",
       "Product_Price       0\n",
       "Store_Name          0\n",
       "Store_City          0\n",
       "Store_Location      0\n",
       "Store_Open_Date     0\n",
       "dtype: int64"
      ]
     },
     "execution_count": 4,
     "metadata": {},
     "output_type": "execute_result"
    }
   ],
   "source": [
    "# find missing values\n",
    "df.isnull().sum()"
   ]
  },
  {
   "cell_type": "markdown",
   "id": "89369ba6",
   "metadata": {},
   "source": [
    "Dataset is very clean. Lets head to analyzing."
   ]
  },
  {
   "cell_type": "markdown",
   "id": "2c923fef",
   "metadata": {},
   "source": [
    "## 2. Which product categories drive the biggest profits? Is this the same across store locations?"
   ]
  },
  {
   "cell_type": "markdown",
   "id": "6801d57d",
   "metadata": {},
   "source": [
    "### Top locations"
   ]
  },
  {
   "cell_type": "code",
   "execution_count": 5,
   "id": "26f18391",
   "metadata": {},
   "outputs": [
    {
     "data": {
      "text/html": [
       "<div>\n",
       "<style scoped>\n",
       "    .dataframe tbody tr th:only-of-type {\n",
       "        vertical-align: middle;\n",
       "    }\n",
       "\n",
       "    .dataframe tbody tr th {\n",
       "        vertical-align: top;\n",
       "    }\n",
       "\n",
       "    .dataframe thead th {\n",
       "        text-align: right;\n",
       "    }\n",
       "</style>\n",
       "<table border=\"1\" class=\"dataframe\">\n",
       "  <thead>\n",
       "    <tr style=\"text-align: right;\">\n",
       "      <th></th>\n",
       "      <th>Sale_ID</th>\n",
       "      <th>Date</th>\n",
       "      <th>Store_ID</th>\n",
       "      <th>Product_ID</th>\n",
       "      <th>Units</th>\n",
       "      <th>Product_Name</th>\n",
       "      <th>Product_Category</th>\n",
       "      <th>Product_Cost</th>\n",
       "      <th>Product_Price</th>\n",
       "      <th>Store_Name</th>\n",
       "      <th>Store_City</th>\n",
       "      <th>Store_Location</th>\n",
       "      <th>Store_Open_Date</th>\n",
       "      <th>Costs</th>\n",
       "      <th>Sales</th>\n",
       "      <th>Profit</th>\n",
       "    </tr>\n",
       "  </thead>\n",
       "  <tbody>\n",
       "    <tr>\n",
       "      <th>0</th>\n",
       "      <td>1</td>\n",
       "      <td>2017-01-01</td>\n",
       "      <td>24</td>\n",
       "      <td>4</td>\n",
       "      <td>1</td>\n",
       "      <td>Chutes &amp; Ladders</td>\n",
       "      <td>Games</td>\n",
       "      <td>9.99</td>\n",
       "      <td>12.99</td>\n",
       "      <td>Maven Toys Aguascalientes 1</td>\n",
       "      <td>Aguascalientes</td>\n",
       "      <td>Downtown</td>\n",
       "      <td>2010-07-31</td>\n",
       "      <td>9.99</td>\n",
       "      <td>12.99</td>\n",
       "      <td>3.0</td>\n",
       "    </tr>\n",
       "    <tr>\n",
       "      <th>1</th>\n",
       "      <td>66</td>\n",
       "      <td>2017-01-01</td>\n",
       "      <td>24</td>\n",
       "      <td>4</td>\n",
       "      <td>1</td>\n",
       "      <td>Chutes &amp; Ladders</td>\n",
       "      <td>Games</td>\n",
       "      <td>9.99</td>\n",
       "      <td>12.99</td>\n",
       "      <td>Maven Toys Aguascalientes 1</td>\n",
       "      <td>Aguascalientes</td>\n",
       "      <td>Downtown</td>\n",
       "      <td>2010-07-31</td>\n",
       "      <td>9.99</td>\n",
       "      <td>12.99</td>\n",
       "      <td>3.0</td>\n",
       "    </tr>\n",
       "    <tr>\n",
       "      <th>2</th>\n",
       "      <td>98</td>\n",
       "      <td>2017-01-01</td>\n",
       "      <td>24</td>\n",
       "      <td>4</td>\n",
       "      <td>1</td>\n",
       "      <td>Chutes &amp; Ladders</td>\n",
       "      <td>Games</td>\n",
       "      <td>9.99</td>\n",
       "      <td>12.99</td>\n",
       "      <td>Maven Toys Aguascalientes 1</td>\n",
       "      <td>Aguascalientes</td>\n",
       "      <td>Downtown</td>\n",
       "      <td>2010-07-31</td>\n",
       "      <td>9.99</td>\n",
       "      <td>12.99</td>\n",
       "      <td>3.0</td>\n",
       "    </tr>\n",
       "  </tbody>\n",
       "</table>\n",
       "</div>"
      ],
      "text/plain": [
       "   Sale_ID       Date  Store_ID  Product_ID  Units      Product_Name  \\\n",
       "0        1 2017-01-01        24           4      1  Chutes & Ladders   \n",
       "1       66 2017-01-01        24           4      1  Chutes & Ladders   \n",
       "2       98 2017-01-01        24           4      1  Chutes & Ladders   \n",
       "\n",
       "  Product_Category  Product_Cost  Product_Price                   Store_Name  \\\n",
       "0            Games          9.99          12.99  Maven Toys Aguascalientes 1   \n",
       "1            Games          9.99          12.99  Maven Toys Aguascalientes 1   \n",
       "2            Games          9.99          12.99  Maven Toys Aguascalientes 1   \n",
       "\n",
       "       Store_City Store_Location Store_Open_Date  Costs  Sales  Profit  \n",
       "0  Aguascalientes       Downtown      2010-07-31   9.99  12.99     3.0  \n",
       "1  Aguascalientes       Downtown      2010-07-31   9.99  12.99     3.0  \n",
       "2  Aguascalientes       Downtown      2010-07-31   9.99  12.99     3.0  "
      ]
     },
     "execution_count": 5,
     "metadata": {},
     "output_type": "execute_result"
    }
   ],
   "source": [
    "# create 'Cost' and 'Sales' columns\n",
    "df['Costs'] = df['Units'] * df['Product_Cost']\n",
    "df['Sales'] = df['Units'] * df['Product_Price']\n",
    "df['Profit'] = df['Sales'] - df['Costs']\n",
    "df.head(3)"
   ]
  },
  {
   "cell_type": "code",
   "execution_count": 6,
   "id": "2c87d69d",
   "metadata": {},
   "outputs": [
    {
     "data": {
      "text/plain": [
       "Product_Category\n",
       "Toys                 1079527.0\n",
       "Electronics          1001437.0\n",
       "Art & Crafts          753354.0\n",
       "Games                 673993.0\n",
       "Sports & Outdoors     505718.0\n",
       "Name: Profit, dtype: float64"
      ]
     },
     "execution_count": 6,
     "metadata": {},
     "output_type": "execute_result"
    }
   ],
   "source": [
    "df.groupby('Product_Category')['Profit'].sum().sort_values(ascending=False)"
   ]
  },
  {
   "cell_type": "markdown",
   "id": "feb33f65",
   "metadata": {},
   "source": [
    "The top 3 categories that drive the largest profits are Toys, Electronics, Art & Crafts."
   ]
  },
  {
   "cell_type": "code",
   "execution_count": 7,
   "id": "7c22aec1",
   "metadata": {},
   "outputs": [
    {
     "data": {
      "text/plain": [
       "Store_Location\n",
       "Downtown       2248728.0\n",
       "Commercial      926864.0\n",
       "Residential     460388.0\n",
       "Airport         378049.0\n",
       "Name: Profit, dtype: float64"
      ]
     },
     "execution_count": 7,
     "metadata": {},
     "output_type": "execute_result"
    }
   ],
   "source": [
    "df.groupby('Store_Location')['Profit'].sum().sort_values(ascending=False)"
   ]
  },
  {
   "cell_type": "markdown",
   "id": "21345f6d",
   "metadata": {},
   "source": [
    "For location, downtown store locations bring back the most profits, then it is commercial. "
   ]
  },
  {
   "cell_type": "code",
   "execution_count": 8,
   "id": "d70fbb65",
   "metadata": {},
   "outputs": [
    {
     "data": {
      "image/png": "[encoded data removed]",
      "text/plain": [
       "<Figure size 792x360 with 1 Axes>"
      ]
     },
     "metadata": {
      "needs_background": "light"
     },
     "output_type": "display_data"
    }
   ],
   "source": [
    "table=df.pivot_table('Profit',columns='Product_Category', index='Store_Location', aggfunc='sum')\n",
    "stacked_data = table.apply(lambda x: x*100/sum(x), axis=1)\n",
    "stacked_data.plot(kind='barh', stacked=True, figsize=(11,5))\n",
    "plt.legend(bbox_to_anchor=(1.05, 1.0), loc='upper left')\n",
    "plt.title('Distribution of Product Category profits in Different Locations')\n",
    "plt.tight_layout()"
   ]
  },
  {
   "cell_type": "markdown",
   "id": "ed6c0824",
   "metadata": {},
   "source": [
    "##### Summary: Toys and Electronics are best-selling in the product category and it is the same across all store locations. For commercial locations and airports, electronics profits come first while in residential and downtown locations it is toys. Sport & Outdoors products sales are the least in sales and across all store locations."
   ]
  },
  {
   "cell_type": "markdown",
   "id": "6ea448a9",
   "metadata": {},
   "source": [
    "#### Products with best profit"
   ]
  },
  {
   "cell_type": "code",
   "execution_count": 11,
   "id": "ecec7233",
   "metadata": {},
   "outputs": [
    {
     "data": {
      "text/plain": [
       "Text(0, 0.5, 'Product Name')"
      ]
     },
     "execution_count": 11,
     "metadata": {},
     "output_type": "execute_result"
    },
    {
     "data": {
      "image/png": "[encoded data removed]",
      "text/plain": [
       "<Figure size 1080x576 with 1 Axes>"
      ]
     },
     "metadata": {
      "needs_background": "light"
     },
     "output_type": "display_data"
    }
   ],
   "source": [
    "df.groupby(['Product_Name'])['Profit'].sum().sort_values(ascending=True).plot(kind='barh', figsize=(15,8))\n",
    "plt.title('All products profit in $')\n",
    "plt.ylabel('Product Name')"
   ]
  },
  {
   "cell_type": "markdown",
   "id": "ab48269e",
   "metadata": {},
   "source": [
    "####  Which cities bring back the most profit?"
   ]
  },
  {
   "cell_type": "code",
   "execution_count": 12,
   "id": "20bbd23d",
   "metadata": {},
   "outputs": [
    {
     "data": {
      "text/plain": [
       "Store_City\n",
       "Cuidad de Mexico    465558.0\n",
       "Guadalajara         368930.0\n",
       "Monterrey           346729.0\n",
       "Hermosillo          263608.0\n",
       "Guanajuato          235047.0\n",
       "Puebla              229694.0\n",
       "Mexicali            175048.0\n",
       "Xalapa              163720.0\n",
       "Saltillo            163248.0\n",
       "Toluca              162702.0\n",
       "Name: Profit, dtype: float64"
      ]
     },
     "execution_count": 12,
     "metadata": {},
     "output_type": "execute_result"
    }
   ],
   "source": [
    "df.groupby(['Store_City'])['Profit'].sum().sort_values(ascending=False).head(10)"
   ]
  },
  {
   "cell_type": "markdown",
   "id": "5bbd0136",
   "metadata": {},
   "source": [
    "The top cities that gain the most profits from sales are Cuidad de Mexico, Guadalajara, and Monterrey."
   ]
  },
  {
   "cell_type": "code",
   "execution_count": 13,
   "id": "b39a10ef",
   "metadata": {},
   "outputs": [
    {
     "data": {
      "text/plain": [
       "Text(0.5, 1.0, 'Top products in Cuidad de Mexico')"
      ]
     },
     "execution_count": 13,
     "metadata": {},
     "output_type": "execute_result"
    },
    {
     "data": {
      "image/png": "[encoded data removed]",
      "text/plain": [
       "<Figure size 432x288 with 1 Axes>"
      ]
     },
     "metadata": {
      "needs_background": "light"
     },
     "output_type": "display_data"
    }
   ],
   "source": [
    "sales_c1=df[df['Store_City']=='Cuidad de Mexico']\n",
    "sales_c1.groupby(['Product_Name'])['Profit'].sum().sort_values().tail(5).plot(kind='barh',color='#86c75d')\n",
    "plt.title('Top products in Cuidad de Mexico')"
   ]
  },
  {
   "cell_type": "code",
   "execution_count": 14,
   "id": "27c31b1f",
   "metadata": {},
   "outputs": [
    {
     "data": {
      "text/plain": [
       "Text(0.5, 1.0, 'Top products in Guadalajara')"
      ]
     },
     "execution_count": 14,
     "metadata": {},
     "output_type": "execute_result"
    },
    {
     "data": {
      "image/png": "[encoded data removed]",
      "text/plain": [
       "<Figure size 432x288 with 1 Axes>"
      ]
     },
     "metadata": {
      "needs_background": "light"
     },
     "output_type": "display_data"
    }
   ],
   "source": [
    "sales_c2=df[df['Store_City']=='Guadalajara']\n",
    "sales_c2.groupby(['Product_Name'])['Profit'].sum().sort_values().tail(5).plot(kind='barh', color='#756bc2')\n",
    "plt.title('Top products in Guadalajara')"
   ]
  },
  {
   "cell_type": "markdown",
   "id": "afb8c71e",
   "metadata": {},
   "source": [
    "The products that bring the most profits are the same in cities that are in the top best-selling. "
   ]
  },
  {
   "cell_type": "markdown",
   "id": "c6807d49",
   "metadata": {},
   "source": [
    "### 3.Can you find any seasonal trends or patterns in the sales data?"
   ]
  },
  {
   "cell_type": "code",
   "execution_count": 16,
   "id": "baec845b",
   "metadata": {},
   "outputs": [],
   "source": [
    "#create new columns: month and day\n",
    "df['Month Year']=pd.to_datetime(df['Date']).dt.to_period('M')"
   ]
  },
  {
   "cell_type": "code",
   "execution_count": 17,
   "id": "c9a29206",
   "metadata": {},
   "outputs": [],
   "source": [
    "sales_monthly=df.groupby(['Month Year'])['Sales'].sum()"
   ]
  },
  {
   "cell_type": "code",
   "execution_count": 19,
   "id": "b21b48f6",
   "metadata": {},
   "outputs": [],
   "source": [
    "df_monthly=pd.DataFrame(sales_monthly)"
   ]
  },
  {
   "cell_type": "code",
   "execution_count": 20,
   "id": "5e6397bc",
   "metadata": {},
   "outputs": [],
   "source": [
    "df_monthly.reset_index(inplace=True)"
   ]
  },
  {
   "cell_type": "code",
   "execution_count": 22,
   "id": "1d26e7d9",
   "metadata": {},
   "outputs": [],
   "source": [
    "# change type\n",
    "df_monthly['Month Year']=df_monthly['Month Year'].astype(str)\n",
    "df_daily['Date']=df_daily['Date'].astype(str)"
   ]
  },
  {
   "cell_type": "markdown",
   "id": "da63a2c7",
   "metadata": {},
   "source": [
    "### What are the peak seasons?"
   ]
  },
  {
   "cell_type": "code",
   "execution_count": 23,
   "id": "bc48bca7",
   "metadata": {},
   "outputs": [
    {
     "data": {
      "text/html": [
       "<div>\n",
       "<style scoped>\n",
       "    .dataframe tbody tr th:only-of-type {\n",
       "        vertical-align: middle;\n",
       "    }\n",
       "\n",
       "    .dataframe tbody tr th {\n",
       "        vertical-align: top;\n",
       "    }\n",
       "\n",
       "    .dataframe thead th {\n",
       "        text-align: right;\n",
       "    }\n",
       "</style>\n",
       "<table border=\"1\" class=\"dataframe\">\n",
       "  <thead>\n",
       "    <tr style=\"text-align: right;\">\n",
       "      <th></th>\n",
       "      <th>Month Year</th>\n",
       "      <th>Sales</th>\n",
       "      <th>Year</th>\n",
       "    </tr>\n",
       "  </thead>\n",
       "  <tbody>\n",
       "    <tr>\n",
       "      <th>0</th>\n",
       "      <td>2017-01</td>\n",
       "      <td>542554.91</td>\n",
       "      <td>2017</td>\n",
       "    </tr>\n",
       "    <tr>\n",
       "      <th>1</th>\n",
       "      <td>2017-02</td>\n",
       "      <td>541351.65</td>\n",
       "      <td>2017</td>\n",
       "    </tr>\n",
       "    <tr>\n",
       "      <th>2</th>\n",
       "      <td>2017-03</td>\n",
       "      <td>589485.19</td>\n",
       "      <td>2017</td>\n",
       "    </tr>\n",
       "  </tbody>\n",
       "</table>\n",
       "</div>"
      ],
      "text/plain": [
       "  Month Year      Sales  Year\n",
       "0    2017-01  542554.91  2017\n",
       "1    2017-02  541351.65  2017\n",
       "2    2017-03  589485.19  2017"
      ]
     },
     "execution_count": 23,
     "metadata": {},
     "output_type": "execute_result"
    }
   ],
   "source": [
    "# add year column into df_monthly\n",
    "df_monthly['Year']=df_monthly['Month Year'].astype(str).str[0:4]\n",
    "df_monthly.head(3)"
   ]
  },
  {
   "cell_type": "code",
   "execution_count": 24,
   "id": "bc44eab5",
   "metadata": {},
   "outputs": [
    {
     "data": {
      "text/plain": [
       "Text(0, 0.5, 'Sales in $')"
      ]
     },
     "execution_count": 24,
     "metadata": {},
     "output_type": "execute_result"
    },
    {
     "data": {
      "image/png": "[encoded data removed]",
      "text/plain": [
       "<Figure size 1080x432 with 1 Axes>"
      ]
     },
     "metadata": {
      "needs_background": "light"
     },
     "output_type": "display_data"
    }
   ],
   "source": [
    "# plot sales per month in 2017\n",
    "plt.figure(figsize=(15,6))\n",
    "y17=df_monthly[df_monthly['Year']=='2017']\n",
    "plt.plot('Month Year','Sales', data=y17)\n",
    "plt.xticks(rotation=45, fontsize=10)\n",
    "plt.title('Total Sales per month in 2017', fontsize=20)\n",
    "plt.ylabel('Sales in $', fontsize=16)"
   ]
  },
  {
   "cell_type": "code",
   "execution_count": 25,
   "id": "2cf62d41",
   "metadata": {},
   "outputs": [
    {
     "data": {
      "text/plain": [
       "Text(0, 0.5, 'Sales in $')"
      ]
     },
     "execution_count": 25,
     "metadata": {},
     "output_type": "execute_result"
    },
    {
     "data": {
      "image/png": "[encoded data removed]",
      "text/plain": [
       "<Figure size 792x288 with 1 Axes>"
      ]
     },
     "metadata": {
      "needs_background": "light"
     },
     "output_type": "display_data"
    }
   ],
   "source": [
    "# plot sales per month in 2018\n",
    "plt.figure(figsize=(11,4))\n",
    "y18 = df_monthly[df_monthly['Year'] == '2018']\n",
    "plt.plot('Month Year','Sales', data = y18, color = 'purple')\n",
    "plt.xticks(rotation=45, fontsize = 10)\n",
    "plt.title('Total Sales per month in 2018', fontsize = 15)\n",
    "plt.ylabel('Sales in $', fontsize = 12)"
   ]
  },
  {
   "cell_type": "markdown",
   "id": "f49c84b9",
   "metadata": {},
   "source": [
    "Since the year 2018 data is cut at September, we only look at data from January to September.\\\n",
    "For the 9-month period, sales hit peak from March to June-July. Sales go up in summer time and quickly go down in fall which is when school starts and children reduce time playing with toys.\\\n",
    "Toy sales peak at the start of summer in 2017 and 2018, which are in April and March respectively. The following months witness a slight fall in sales \n",
    "after the peak.\\\n",
    "So the peak seasons in 2017 are from March to July and December; the off seasons are January-Febuary and August-September.\n"
   ]
  },
  {
   "cell_type": "markdown",
   "id": "87127c61",
   "metadata": {},
   "source": [
    "### Are sales being lost with out-of-stock products at certain locations? "
   ]
  },
  {
   "cell_type": "code",
   "execution_count": 26,
   "id": "7cbd5232",
   "metadata": {},
   "outputs": [
    {
     "data": {
      "text/html": [
       "<div>\n",
       "<style scoped>\n",
       "    .dataframe tbody tr th:only-of-type {\n",
       "        vertical-align: middle;\n",
       "    }\n",
       "\n",
       "    .dataframe tbody tr th {\n",
       "        vertical-align: top;\n",
       "    }\n",
       "\n",
       "    .dataframe thead th {\n",
       "        text-align: right;\n",
       "    }\n",
       "</style>\n",
       "<table border=\"1\" class=\"dataframe\">\n",
       "  <thead>\n",
       "    <tr style=\"text-align: right;\">\n",
       "      <th></th>\n",
       "      <th>Store_ID</th>\n",
       "      <th>Product_ID</th>\n",
       "      <th>Stock_On_Hand</th>\n",
       "      <th>Store_Name</th>\n",
       "      <th>Store_City</th>\n",
       "      <th>Store_Location</th>\n",
       "      <th>Store_Open_Date</th>\n",
       "      <th>Product_Name</th>\n",
       "      <th>Product_Category</th>\n",
       "      <th>Product_Cost</th>\n",
       "      <th>Product_Price</th>\n",
       "    </tr>\n",
       "  </thead>\n",
       "  <tbody>\n",
       "    <tr>\n",
       "      <th>1</th>\n",
       "      <td>2</td>\n",
       "      <td>1</td>\n",
       "      <td>0</td>\n",
       "      <td>Maven Toys Monterrey 1</td>\n",
       "      <td>Monterrey</td>\n",
       "      <td>Residential</td>\n",
       "      <td>1995-04-27</td>\n",
       "      <td>Action Figure</td>\n",
       "      <td>Toys</td>\n",
       "      <td>$9.99</td>\n",
       "      <td>$15.99</td>\n",
       "    </tr>\n",
       "    <tr>\n",
       "      <th>5</th>\n",
       "      <td>6</td>\n",
       "      <td>1</td>\n",
       "      <td>0</td>\n",
       "      <td>Maven Toys Mexicali 1</td>\n",
       "      <td>Mexicali</td>\n",
       "      <td>Commercial</td>\n",
       "      <td>2003-12-13</td>\n",
       "      <td>Action Figure</td>\n",
       "      <td>Toys</td>\n",
       "      <td>$9.99</td>\n",
       "      <td>$15.99</td>\n",
       "    </tr>\n",
       "    <tr>\n",
       "      <th>12</th>\n",
       "      <td>13</td>\n",
       "      <td>1</td>\n",
       "      <td>0</td>\n",
       "      <td>Maven Toys Mexicali 2</td>\n",
       "      <td>Mexicali</td>\n",
       "      <td>Downtown</td>\n",
       "      <td>2006-08-30</td>\n",
       "      <td>Action Figure</td>\n",
       "      <td>Toys</td>\n",
       "      <td>$9.99</td>\n",
       "      <td>$15.99</td>\n",
       "    </tr>\n",
       "  </tbody>\n",
       "</table>\n",
       "</div>"
      ],
      "text/plain": [
       "    Store_ID  Product_ID  Stock_On_Hand              Store_Name Store_City  \\\n",
       "1          2           1              0  Maven Toys Monterrey 1  Monterrey   \n",
       "5          6           1              0   Maven Toys Mexicali 1   Mexicali   \n",
       "12        13           1              0   Maven Toys Mexicali 2   Mexicali   \n",
       "\n",
       "   Store_Location Store_Open_Date   Product_Name Product_Category  \\\n",
       "1     Residential      1995-04-27  Action Figure             Toys   \n",
       "5      Commercial      2003-12-13  Action Figure             Toys   \n",
       "12       Downtown      2006-08-30  Action Figure             Toys   \n",
       "\n",
       "   Product_Cost Product_Price  \n",
       "1        $9.99        $15.99   \n",
       "5        $9.99        $15.99   \n",
       "12       $9.99        $15.99   "
      ]
     },
     "execution_count": 26,
     "metadata": {},
     "output_type": "execute_result"
    }
   ],
   "source": [
    "df2=pd.merge(inventory, stores, on = 'Store_ID')\n",
    "df2=pd.merge(df2, products, on = 'Product_ID')\n",
    "\n",
    "df2=df2[df2['Stock_On_Hand'] == 0]\n",
    "df2.head(3)"
   ]
  },
  {
   "cell_type": "code",
   "execution_count": 27,
   "id": "a69cd8e0",
   "metadata": {},
   "outputs": [
    {
     "name": "stderr",
     "output_type": "stream",
     "text": [
      "<ipython-input-27-eaf175ac90bd>:2: FutureWarning: The default value of regex will change from True to False in a future version. In addition, single character regular expressions will*not* be treated as literal strings when regex=True.\n",
      "  df2['Product_Cost'] = df2['Product_Cost'].str.replace('$','')\n",
      "<ipython-input-27-eaf175ac90bd>:3: FutureWarning: The default value of regex will change from True to False in a future version. In addition, single character regular expressions will*not* be treated as literal strings when regex=True.\n",
      "  df2['Product_Price'] = df2['Product_Price'].str.replace('$','')\n"
     ]
    }
   ],
   "source": [
    "# clean cost and price data\n",
    "df2['Product_Cost'] = df2['Product_Cost'].str.replace('$','')\n",
    "df2['Product_Price'] = df2['Product_Price'].str.replace('$','')\n",
    "# change type\n",
    "df2['Product_Cost'] = df2['Product_Cost'].astype(float)\n",
    "df2['Product_Price'] = df2['Product_Price'].astype(float)"
   ]
  },
  {
   "cell_type": "code",
   "execution_count": 28,
   "id": "2003de65",
   "metadata": {},
   "outputs": [
    {
     "data": {
      "text/html": [
       "<div>\n",
       "<style scoped>\n",
       "    .dataframe tbody tr th:only-of-type {\n",
       "        vertical-align: middle;\n",
       "    }\n",
       "\n",
       "    .dataframe tbody tr th {\n",
       "        vertical-align: top;\n",
       "    }\n",
       "\n",
       "    .dataframe thead th {\n",
       "        text-align: right;\n",
       "    }\n",
       "</style>\n",
       "<table border=\"1\" class=\"dataframe\">\n",
       "  <thead>\n",
       "    <tr style=\"text-align: right;\">\n",
       "      <th></th>\n",
       "      <th>Store_Name</th>\n",
       "      <th>Product_Name</th>\n",
       "      <th>Units</th>\n",
       "    </tr>\n",
       "  </thead>\n",
       "  <tbody>\n",
       "    <tr>\n",
       "      <th>0</th>\n",
       "      <td>Maven Toys Aguascalientes 1</td>\n",
       "      <td>Action Figure</td>\n",
       "      <td>11</td>\n",
       "    </tr>\n",
       "    <tr>\n",
       "      <th>1</th>\n",
       "      <td>Maven Toys Aguascalientes 1</td>\n",
       "      <td>Animal Figures</td>\n",
       "      <td>41</td>\n",
       "    </tr>\n",
       "    <tr>\n",
       "      <th>2</th>\n",
       "      <td>Maven Toys Aguascalientes 1</td>\n",
       "      <td>Barrel O' Slime</td>\n",
       "      <td>66</td>\n",
       "    </tr>\n",
       "    <tr>\n",
       "      <th>3</th>\n",
       "      <td>Maven Toys Aguascalientes 1</td>\n",
       "      <td>Classic Dominoes</td>\n",
       "      <td>5</td>\n",
       "    </tr>\n",
       "    <tr>\n",
       "      <th>4</th>\n",
       "      <td>Maven Toys Aguascalientes 1</td>\n",
       "      <td>Colorbuds</td>\n",
       "      <td>44</td>\n",
       "    </tr>\n",
       "    <tr>\n",
       "      <th>...</th>\n",
       "      <td>...</td>\n",
       "      <td>...</td>\n",
       "      <td>...</td>\n",
       "    </tr>\n",
       "    <tr>\n",
       "      <th>1227</th>\n",
       "      <td>Maven Toys Zacatecas 1</td>\n",
       "      <td>Playfoam</td>\n",
       "      <td>50</td>\n",
       "    </tr>\n",
       "    <tr>\n",
       "      <th>1228</th>\n",
       "      <td>Maven Toys Zacatecas 1</td>\n",
       "      <td>Rubik's Cube</td>\n",
       "      <td>29</td>\n",
       "    </tr>\n",
       "    <tr>\n",
       "      <th>1229</th>\n",
       "      <td>Maven Toys Zacatecas 1</td>\n",
       "      <td>Splash Balls</td>\n",
       "      <td>55</td>\n",
       "    </tr>\n",
       "    <tr>\n",
       "      <th>1230</th>\n",
       "      <td>Maven Toys Zacatecas 1</td>\n",
       "      <td>Supersoaker Water Gun</td>\n",
       "      <td>11</td>\n",
       "    </tr>\n",
       "    <tr>\n",
       "      <th>1231</th>\n",
       "      <td>Maven Toys Zacatecas 1</td>\n",
       "      <td>Teddy Bear</td>\n",
       "      <td>32</td>\n",
       "    </tr>\n",
       "  </tbody>\n",
       "</table>\n",
       "<p>1232 rows × 3 columns</p>\n",
       "</div>"
      ],
      "text/plain": [
       "                       Store_Name           Product_Name  Units\n",
       "0     Maven Toys Aguascalientes 1          Action Figure     11\n",
       "1     Maven Toys Aguascalientes 1         Animal Figures     41\n",
       "2     Maven Toys Aguascalientes 1        Barrel O' Slime     66\n",
       "3     Maven Toys Aguascalientes 1       Classic Dominoes      5\n",
       "4     Maven Toys Aguascalientes 1              Colorbuds     44\n",
       "...                           ...                    ...    ...\n",
       "1227       Maven Toys Zacatecas 1               Playfoam     50\n",
       "1228       Maven Toys Zacatecas 1           Rubik's Cube     29\n",
       "1229       Maven Toys Zacatecas 1           Splash Balls     55\n",
       "1230       Maven Toys Zacatecas 1  Supersoaker Water Gun     11\n",
       "1231       Maven Toys Zacatecas 1             Teddy Bear     32\n",
       "\n",
       "[1232 rows x 3 columns]"
      ]
     },
     "execution_count": 28,
     "metadata": {},
     "output_type": "execute_result"
    }
   ],
   "source": [
    "unitsales=df[df['Month Year'] == '2018-09'].groupby(['Store_Name','Product_Name'])['Units'].sum()\n",
    "unitsales=pd.DataFrame(unitsales)\n",
    "unitsales.reset_index()"
   ]
  },
  {
   "cell_type": "code",
   "execution_count": 29,
   "id": "91d6464e",
   "metadata": {},
   "outputs": [
    {
     "data": {
      "text/html": [
       "<div>\n",
       "<style scoped>\n",
       "    .dataframe tbody tr th:only-of-type {\n",
       "        vertical-align: middle;\n",
       "    }\n",
       "\n",
       "    .dataframe tbody tr th {\n",
       "        vertical-align: top;\n",
       "    }\n",
       "\n",
       "    .dataframe thead th {\n",
       "        text-align: right;\n",
       "    }\n",
       "</style>\n",
       "<table border=\"1\" class=\"dataframe\">\n",
       "  <thead>\n",
       "    <tr style=\"text-align: right;\">\n",
       "      <th></th>\n",
       "      <th>Store_Name</th>\n",
       "      <th>Product_Name</th>\n",
       "      <th>Units</th>\n",
       "      <th>Store_ID</th>\n",
       "      <th>Product_ID</th>\n",
       "      <th>Stock_On_Hand</th>\n",
       "      <th>Store_City</th>\n",
       "      <th>Store_Location</th>\n",
       "      <th>Store_Open_Date</th>\n",
       "      <th>Product_Category</th>\n",
       "      <th>Product_Cost</th>\n",
       "      <th>Product_Price</th>\n",
       "    </tr>\n",
       "  </thead>\n",
       "  <tbody>\n",
       "    <tr>\n",
       "      <th>0</th>\n",
       "      <td>Maven Toys Aguascalientes 1</td>\n",
       "      <td>Foam Disk Launcher</td>\n",
       "      <td>10</td>\n",
       "      <td>24</td>\n",
       "      <td>12</td>\n",
       "      <td>0</td>\n",
       "      <td>Aguascalientes</td>\n",
       "      <td>Downtown</td>\n",
       "      <td>2010-07-31</td>\n",
       "      <td>Sports &amp; Outdoors</td>\n",
       "      <td>8.99</td>\n",
       "      <td>11.99</td>\n",
       "    </tr>\n",
       "    <tr>\n",
       "      <th>1</th>\n",
       "      <td>Maven Toys Aguascalientes 1</td>\n",
       "      <td>Hot Wheels 5-Pack</td>\n",
       "      <td>18</td>\n",
       "      <td>24</td>\n",
       "      <td>15</td>\n",
       "      <td>0</td>\n",
       "      <td>Aguascalientes</td>\n",
       "      <td>Downtown</td>\n",
       "      <td>2010-07-31</td>\n",
       "      <td>Toys</td>\n",
       "      <td>3.99</td>\n",
       "      <td>5.99</td>\n",
       "    </tr>\n",
       "    <tr>\n",
       "      <th>2</th>\n",
       "      <td>Maven Toys Aguascalientes 1</td>\n",
       "      <td>Mini Ping Pong Set</td>\n",
       "      <td>141</td>\n",
       "      <td>24</td>\n",
       "      <td>21</td>\n",
       "      <td>0</td>\n",
       "      <td>Aguascalientes</td>\n",
       "      <td>Downtown</td>\n",
       "      <td>2010-07-31</td>\n",
       "      <td>Sports &amp; Outdoors</td>\n",
       "      <td>6.99</td>\n",
       "      <td>9.99</td>\n",
       "    </tr>\n",
       "  </tbody>\n",
       "</table>\n",
       "</div>"
      ],
      "text/plain": [
       "                    Store_Name        Product_Name  Units  Store_ID  \\\n",
       "0  Maven Toys Aguascalientes 1  Foam Disk Launcher     10        24   \n",
       "1  Maven Toys Aguascalientes 1   Hot Wheels 5-Pack     18        24   \n",
       "2  Maven Toys Aguascalientes 1  Mini Ping Pong Set    141        24   \n",
       "\n",
       "   Product_ID  Stock_On_Hand      Store_City Store_Location Store_Open_Date  \\\n",
       "0          12              0  Aguascalientes       Downtown      2010-07-31   \n",
       "1          15              0  Aguascalientes       Downtown      2010-07-31   \n",
       "2          21              0  Aguascalientes       Downtown      2010-07-31   \n",
       "\n",
       "    Product_Category  Product_Cost  Product_Price  \n",
       "0  Sports & Outdoors          8.99          11.99  \n",
       "1               Toys          3.99           5.99  \n",
       "2  Sports & Outdoors          6.99           9.99  "
      ]
     },
     "execution_count": 29,
     "metadata": {},
     "output_type": "execute_result"
    }
   ],
   "source": [
    "profitloss = pd.merge(unitsales, df2, on = ['Store_Name', 'Product_Name'])\n",
    "profitloss.head(3)"
   ]
  },
  {
   "cell_type": "code",
   "execution_count": 30,
   "id": "00b9e27f",
   "metadata": {},
   "outputs": [
    {
     "data": {
      "text/html": [
       "<div>\n",
       "<style scoped>\n",
       "    .dataframe tbody tr th:only-of-type {\n",
       "        vertical-align: middle;\n",
       "    }\n",
       "\n",
       "    .dataframe tbody tr th {\n",
       "        vertical-align: top;\n",
       "    }\n",
       "\n",
       "    .dataframe thead th {\n",
       "        text-align: right;\n",
       "    }\n",
       "</style>\n",
       "<table border=\"1\" class=\"dataframe\">\n",
       "  <thead>\n",
       "    <tr style=\"text-align: right;\">\n",
       "      <th></th>\n",
       "      <th>Store_Name</th>\n",
       "      <th>Product_Name</th>\n",
       "      <th>Units</th>\n",
       "      <th>Store_ID</th>\n",
       "      <th>Product_ID</th>\n",
       "      <th>Stock_On_Hand</th>\n",
       "      <th>Store_City</th>\n",
       "      <th>Store_Location</th>\n",
       "      <th>Store_Open_Date</th>\n",
       "      <th>Product_Category</th>\n",
       "      <th>Product_Cost</th>\n",
       "      <th>Product_Price</th>\n",
       "      <th>Loss</th>\n",
       "    </tr>\n",
       "  </thead>\n",
       "  <tbody>\n",
       "    <tr>\n",
       "      <th>0</th>\n",
       "      <td>Maven Toys Aguascalientes 1</td>\n",
       "      <td>Foam Disk Launcher</td>\n",
       "      <td>10</td>\n",
       "      <td>24</td>\n",
       "      <td>12</td>\n",
       "      <td>0</td>\n",
       "      <td>Aguascalientes</td>\n",
       "      <td>Downtown</td>\n",
       "      <td>2010-07-31</td>\n",
       "      <td>Sports &amp; Outdoors</td>\n",
       "      <td>8.99</td>\n",
       "      <td>11.99</td>\n",
       "      <td>30.0</td>\n",
       "    </tr>\n",
       "    <tr>\n",
       "      <th>1</th>\n",
       "      <td>Maven Toys Aguascalientes 1</td>\n",
       "      <td>Hot Wheels 5-Pack</td>\n",
       "      <td>18</td>\n",
       "      <td>24</td>\n",
       "      <td>15</td>\n",
       "      <td>0</td>\n",
       "      <td>Aguascalientes</td>\n",
       "      <td>Downtown</td>\n",
       "      <td>2010-07-31</td>\n",
       "      <td>Toys</td>\n",
       "      <td>3.99</td>\n",
       "      <td>5.99</td>\n",
       "      <td>36.0</td>\n",
       "    </tr>\n",
       "    <tr>\n",
       "      <th>2</th>\n",
       "      <td>Maven Toys Aguascalientes 1</td>\n",
       "      <td>Mini Ping Pong Set</td>\n",
       "      <td>141</td>\n",
       "      <td>24</td>\n",
       "      <td>21</td>\n",
       "      <td>0</td>\n",
       "      <td>Aguascalientes</td>\n",
       "      <td>Downtown</td>\n",
       "      <td>2010-07-31</td>\n",
       "      <td>Sports &amp; Outdoors</td>\n",
       "      <td>6.99</td>\n",
       "      <td>9.99</td>\n",
       "      <td>423.0</td>\n",
       "    </tr>\n",
       "  </tbody>\n",
       "</table>\n",
       "</div>"
      ],
      "text/plain": [
       "                    Store_Name        Product_Name  Units  Store_ID  \\\n",
       "0  Maven Toys Aguascalientes 1  Foam Disk Launcher     10        24   \n",
       "1  Maven Toys Aguascalientes 1   Hot Wheels 5-Pack     18        24   \n",
       "2  Maven Toys Aguascalientes 1  Mini Ping Pong Set    141        24   \n",
       "\n",
       "   Product_ID  Stock_On_Hand      Store_City Store_Location Store_Open_Date  \\\n",
       "0          12              0  Aguascalientes       Downtown      2010-07-31   \n",
       "1          15              0  Aguascalientes       Downtown      2010-07-31   \n",
       "2          21              0  Aguascalientes       Downtown      2010-07-31   \n",
       "\n",
       "    Product_Category  Product_Cost  Product_Price   Loss  \n",
       "0  Sports & Outdoors          8.99          11.99   30.0  \n",
       "1               Toys          3.99           5.99   36.0  \n",
       "2  Sports & Outdoors          6.99           9.99  423.0  "
      ]
     },
     "execution_count": 30,
     "metadata": {},
     "output_type": "execute_result"
    }
   ],
   "source": [
    "#change type\n",
    "profitloss['Loss'] = profitloss['Units'] * (profitloss['Product_Price'] - profitloss['Product_Cost'])\n",
    "profitloss.head(3)"
   ]
  },
  {
   "cell_type": "markdown",
   "id": "22a60424",
   "metadata": {},
   "source": [
    "#### How much do each store lose in profit in Sept2018?"
   ]
  },
  {
   "cell_type": "code",
   "execution_count": 31,
   "id": "12312dc1",
   "metadata": {},
   "outputs": [
    {
     "data": {
      "text/html": [
       "<div>\n",
       "<style scoped>\n",
       "    .dataframe tbody tr th:only-of-type {\n",
       "        vertical-align: middle;\n",
       "    }\n",
       "\n",
       "    .dataframe tbody tr th {\n",
       "        vertical-align: top;\n",
       "    }\n",
       "\n",
       "    .dataframe thead th {\n",
       "        text-align: right;\n",
       "    }\n",
       "</style>\n",
       "<table border=\"1\" class=\"dataframe\">\n",
       "  <thead>\n",
       "    <tr style=\"text-align: right;\">\n",
       "      <th></th>\n",
       "      <th>Store_Name</th>\n",
       "      <th>Store_City</th>\n",
       "      <th>Store_Location</th>\n",
       "      <th>Loss</th>\n",
       "    </tr>\n",
       "  </thead>\n",
       "  <tbody>\n",
       "    <tr>\n",
       "      <th>0</th>\n",
       "      <td>Maven Toys Aguascalientes 1</td>\n",
       "      <td>Aguascalientes</td>\n",
       "      <td>Downtown</td>\n",
       "      <td>888.0</td>\n",
       "    </tr>\n",
       "    <tr>\n",
       "      <th>1</th>\n",
       "      <td>Maven Toys Chihuahua 2</td>\n",
       "      <td>Chihuahua</td>\n",
       "      <td>Downtown</td>\n",
       "      <td>21.0</td>\n",
       "    </tr>\n",
       "    <tr>\n",
       "      <th>2</th>\n",
       "      <td>Maven Toys Chilpancingo 1</td>\n",
       "      <td>Chilpancingo</td>\n",
       "      <td>Downtown</td>\n",
       "      <td>124.0</td>\n",
       "    </tr>\n",
       "    <tr>\n",
       "      <th>3</th>\n",
       "      <td>Maven Toys Ciudad Victoria 1</td>\n",
       "      <td>Ciudad Victoria</td>\n",
       "      <td>Downtown</td>\n",
       "      <td>27.0</td>\n",
       "    </tr>\n",
       "    <tr>\n",
       "      <th>4</th>\n",
       "      <td>Maven Toys Ciudad de Mexico 3</td>\n",
       "      <td>Cuidad de Mexico</td>\n",
       "      <td>Residential</td>\n",
       "      <td>155.0</td>\n",
       "    </tr>\n",
       "  </tbody>\n",
       "</table>\n",
       "</div>"
      ],
      "text/plain": [
       "                      Store_Name        Store_City Store_Location   Loss\n",
       "0    Maven Toys Aguascalientes 1    Aguascalientes       Downtown  888.0\n",
       "1         Maven Toys Chihuahua 2         Chihuahua       Downtown   21.0\n",
       "2      Maven Toys Chilpancingo 1      Chilpancingo       Downtown  124.0\n",
       "3   Maven Toys Ciudad Victoria 1   Ciudad Victoria       Downtown   27.0\n",
       "4  Maven Toys Ciudad de Mexico 3  Cuidad de Mexico    Residential  155.0"
      ]
     },
     "execution_count": 31,
     "metadata": {},
     "output_type": "execute_result"
    }
   ],
   "source": [
    "loss_loc = profitloss.groupby(['Store_Name','Store_City','Store_Location'])['Loss'].sum()\n",
    "loss_loc = pd.DataFrame(loss_loc)\n",
    "loss_loc.reset_index(inplace=True)\n",
    "loss_loc.head(5)"
   ]
  },
  {
   "cell_type": "markdown",
   "id": "848cd1bc",
   "metadata": {},
   "source": [
    "#### How much do each city lose in profit on average?\n"
   ]
  },
  {
   "cell_type": "code",
   "execution_count": 32,
   "id": "c5c9b63e",
   "metadata": {},
   "outputs": [
    {
     "data": {
      "text/plain": [
       "Store_City\n",
       "Hermosillo          930.000000\n",
       "Aguascalientes      888.000000\n",
       "La Paz              834.000000\n",
       "Culiacan            821.000000\n",
       "Xalapa              815.000000\n",
       "Toluca              777.000000\n",
       "Guanajuato          689.666667\n",
       "San Luis Potosi     574.000000\n",
       "Monterrey           524.666667\n",
       "Pachuca             495.000000\n",
       "Mexicali            471.000000\n",
       "Merida              427.000000\n",
       "Guadalajara         269.000000\n",
       "Zacatecas           210.000000\n",
       "Puebla              193.666667\n",
       "Cuernavaca          171.000000\n",
       "Cuidad de Mexico    158.500000\n",
       "Chilpancingo        124.000000\n",
       "Oaxaca              120.000000\n",
       "Tuxtla Gutierrez     72.000000\n",
       "Saltillo             59.500000\n",
       "Morelia              57.000000\n",
       "Villahermosa         34.000000\n",
       "Ciudad Victoria      27.000000\n",
       "Chihuahua            21.000000\n",
       "Name: Loss, dtype: float64"
      ]
     },
     "execution_count": 32,
     "metadata": {},
     "output_type": "execute_result"
    },
    {
     "data": {
      "image/png": "[encoded data removed]",
      "text/plain": [
       "<Figure size 1080x504 with 1 Axes>"
      ]
     },
     "metadata": {
      "needs_background": "light"
     },
     "output_type": "display_data"
    }
   ],
   "source": [
    "fig=plt.figure(figsize=(15,7))\n",
    "loss_loc.groupby(['Store_City'])['Loss'].mean().sort_values(ascending=False).plot(kind='bar', color='#e3a27d')\n",
    "plt.xticks(rotation=45)\n",
    "plt.title('Average profit loss per City', fontsize=15)\n",
    "plt.ylabel('$')\n",
    "plt.xlabel('City', fontsize=13)\n",
    "loss_loc.groupby(['Store_City'])['Loss'].mean().sort_values(ascending=False)"
   ]
  },
  {
   "cell_type": "markdown",
   "id": "a7506857",
   "metadata": {},
   "source": [
    "#### How much do each store location lose in profit on average?\n"
   ]
  },
  {
   "cell_type": "code",
   "execution_count": 33,
   "id": "bea4e48e",
   "metadata": {},
   "outputs": [
    {
     "data": {
      "text/plain": [
       "Store_Location\n",
       "Airport        486.000000\n",
       "Commercial     399.875000\n",
       "Downtown       451.681818\n",
       "Residential    295.833333\n",
       "Name: Loss, dtype: float64"
      ]
     },
     "execution_count": 33,
     "metadata": {},
     "output_type": "execute_result"
    },
    {
     "data": {
      "image/png": "[encoded data removed]",
      "text/plain": [
       "<Figure size 432x288 with 1 Axes>"
      ]
     },
     "metadata": {
      "needs_background": "light"
     },
     "output_type": "display_data"
    }
   ],
   "source": [
    "loss_loc.groupby('Store_Location')['Loss'].mean().plot(kind='bar')\n",
    "plt.xticks(rotation=45)\n",
    "plt.title('Average profit loss per Store Location', fontsize=15)\n",
    "plt.ylabel('$')\n",
    "plt.xlabel('Location', fontsize=13)\n",
    "loss_loc.groupby('Store_Location')['Loss'].mean()"
   ]
  },
  {
   "cell_type": "markdown",
   "id": "0ecd3bfd",
   "metadata": {},
   "source": [
    "#### Which locations often run out of stocks?"
   ]
  },
  {
   "cell_type": "code",
   "execution_count": 34,
   "id": "c4563f6d",
   "metadata": {},
   "outputs": [
    {
     "data": {
      "text/plain": [
       "Downtown       46\n",
       "Commercial     15\n",
       "Residential    14\n",
       "Airport         2\n",
       "Name: Store_Location, dtype: int64"
      ]
     },
     "execution_count": 34,
     "metadata": {},
     "output_type": "execute_result"
    },
    {
     "data": {
      "image/png": "[encoded data removed]",
      "text/plain": [
       "<Figure size 432x288 with 1 Axes>"
      ]
     },
     "metadata": {},
     "output_type": "display_data"
    }
   ],
   "source": [
    "profitloss['Store_Location'].value_counts().plot(kind='pie', autopct='%1.1f%%')\n",
    "plt.title('Out of stock Inventory in Locations', fontsize=13)\n",
    "profitloss['Store_Location'].value_counts()"
   ]
  },
  {
   "cell_type": "code",
   "execution_count": 35,
   "id": "d227ff2c",
   "metadata": {},
   "outputs": [
    {
     "data": {
      "text/plain": [
       "Text(0.5, 1.0, 'Cities with most out of stock inventories')"
      ]
     },
     "execution_count": 35,
     "metadata": {},
     "output_type": "execute_result"
    },
    {
     "data": {
      "image/png": "[encoded data removed]",
      "text/plain": [
       "<Figure size 432x288 with 1 Axes>"
      ]
     },
     "metadata": {
      "needs_background": "light"
     },
     "output_type": "display_data"
    }
   ],
   "source": [
    "profitloss['Store_City'].value_counts().head(10).plot(kind='bar')\n",
    "plt.xticks(rotation=45)\n",
    "plt.ylabel('Number of stock outs')\n",
    "plt.xlabel('City')\n",
    "plt.title('Cities with most out of stock inventories')"
   ]
  },
  {
   "cell_type": "markdown",
   "id": "7cef3d2e",
   "metadata": {},
   "source": [
    "1. Stockouts in downtown stores often occured the most, which resulted in losing the second highest profit on average. \n",
    "2. Airport locations are where stockouts happened the least, however the profit loss on average was the highest(nearly 500 dollars per airport store). The sales velocity at airports is high when inventories are well-stocked, hence if stockouts occur, profit loss increases drastically. This is the same case with cities with the highest profit loss. They appear in the top 10 of cities with high loss but not in the top of most out of stock inventories.\n",
    "3. The range of profit loss across cities are big. Stores in Hermosillo lost 930 dollars on average while Chihuahua lost on average 21$. "
   ]
  },
  {
   "cell_type": "code",
   "execution_count": null,
   "id": "3e5838cd",
   "metadata": {},
   "outputs": [],
   "source": []
  },
  {
   "cell_type": "code",
   "execution_count": null,
   "id": "01fe58f8",
   "metadata": {},
   "outputs": [],
   "source": []
  }
 ],
 "metadata": {
  "kernelspec": {
   "display_name": "Python 3",
   "language": "python",
   "name": "python3"
  },
  "language_info": {
   "codemirror_mode": {
    "name": "ipython",
    "version": 3
   },
   "file_extension": ".py",
   "mimetype": "text/x-python",
   "name": "python",
   "nbconvert_exporter": "python",
   "pygments_lexer": "ipython3",
   "version": "3.8.8"
  }
 },
 "nbformat": 4,
 "nbformat_minor": 5
}
